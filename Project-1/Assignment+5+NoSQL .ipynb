{
 "cells": [
  {
   "cell_type": "code",
   "execution_count": 1,
   "metadata": {},
   "outputs": [],
   "source": [
    "from unqlite import UnQLite\n",
    "import math"
   ]
  },
  {
   "cell_type": "code",
   "execution_count": 2,
   "metadata": {},
   "outputs": [],
   "source": [
    "db = UnQLite('sample.db')\n",
    "data = db.collection('data')"
   ]
  },
  {
   "cell_type": "code",
   "execution_count": 3,
   "metadata": {},
   "outputs": [],
   "source": [
    "# Graded Cell, PartID: o1flK\n",
    "\n",
    "def FindBusinessBasedOnCity(cityToSearch, saveLocation1, collection):\n",
    "    businesses = []  #This business empty list variable declared to store the name, full_address, city and state if city found in the list \n",
    "    for index in range(len(collection.all())): #This for loop is copying the information from collection to data variable\n",
    "        data = collection.fetch(index)\n",
    "        \n",
    "        if data['city'] == cityToSearch: # Here I am comparing the given city which is cityToSearch with our copied data variable data\n",
    "            businesses.append([data['name'], data['full_address'], data['city'], data['state']]) # Here I'm storing the information to our empty list if city founf in the colletion\n",
    "    \n",
    "    f = open(saveLocation1, 'w') # Here I am opening the file using the given location saveLocation to write our search results\n",
    "    for result in businesses: # copying the results one by one variable i.e. name then, full_address, city and state\n",
    "        f.write('$'.join(str(s) for s in result)) # As per our assignment instructions we have to separate our information with $ sybol so, here I'm joining each variable with this $\n",
    "        f.write('\\n') # Also, each results should be stored in separate line so here the results will be stored in new line if we have multiple search information found\n",
    "    f.close() # Closing the file.\n",
    "\n",
    "def FindBusinessBasedOnLocation(categoriesToSearch, myLocation, maxDistance, saveLocation2, collection):\n",
    "    names = [] # This name empty list variable declared to store the business name\n",
    "\n",
    "    lat1 = myLocation[0] # This lat1 variable stores the input lattitude from the myLocation list variable\n",
    "    lon1 = myLocation[1] # This lon1 variable stores the input longitude from the myLocation list variable\n",
    "    \n",
    "    for index in range(len(collection.all())): #This for loop is copying the information from collection to data variable\n",
    "        data = collection.fetch(index)\n",
    "        lat2 = data['latitude'] # Here the lattitude value will be stored to lat2 for every record\n",
    "        lon2 = data['longitude'] # Here the longitude value will be stored to lon2 for every record\n",
    "\n",
    "        distance = DistanceFunction(lat2, lon2, lat1, lon1) # Here we are calling the distancefunction which had given distance calculation algorithm \n",
    "        if distance <= maxDistance: # Checking calculated distance is equal to or under the given maximum distance\n",
    "            for category in categoriesToSearch: # Here we are taking one category at once to check is it avaiablae at least once in the collection\n",
    "                if category in data['categories']:\n",
    "                    if data['name'] not in names: #Here names will not be appended if we already covered the category so, duplicate business names will not saved to output file\n",
    "                        names.append(data['name']) # If category avaiable in collection data then the name of the business will be stored to our empty names list variable\n",
    "\n",
    "    f = open(saveLocation2, 'w') # Here opening the file using the saveLocation2 variable\n",
    "    for name in names: # Here we are writing all the business names one by one in fresh line\n",
    "        f.write(name + '\\n')\n",
    "    f.close() # closing the file\n",
    "    \n",
    "def DistanceFunction(lat2, lon2, lat1, lon1):\n",
    "    R = 3959\n",
    "    phi1 = math.radians(lat1)\n",
    "    phi2 = math.radians(lat2)\n",
    "    delta_phi = math.radians(lat2 - lat1)\n",
    "    delta_lambda = math.radians(lon2 - lon1)\n",
    "    a = math.sin(delta_phi/2) * math.sin(delta_phi/2) + math.cos(phi1) * math.cos(phi2) * math.sin(delta_lambda/2)* math.sin(delta_lambda/2)\n",
    "    c = 2 * math.atan2(math.sqrt(a), math.sqrt(1 - a))\n",
    "    d = R * c\n",
    "    return d"
   ]
  },
  {
   "cell_type": "code",
   "execution_count": 4,
   "metadata": {},
   "outputs": [
    {
     "name": "stdout",
     "output_type": "stream",
     "text": [
      "Correct! You FindBusinessByCity function passes these test cases. This does not cover all possible test edge cases, however, so make sure that your function covers them before submitting!\n"
     ]
    }
   ],
   "source": [
    "true_results = [\"VinciTorio's Restaurant$1835 E Elliot Rd, Ste C109, Tempe, AZ 85284$Tempe$AZ\", \"P.croissants$7520 S Rural Rd, Tempe, AZ 85283$Tempe$AZ\", \"Salt Creek Home$1725 W Ruby Dr, Tempe, AZ 85284$Tempe$AZ\"]\n",
    "\n",
    "try:\n",
    "    FindBusinessBasedOnCity('Tempe', 'output_city.txt', data)\n",
    "except NameError as e:\n",
    "    print ('The FindBusinessBasedOnCity function is not defined! You must run the cell containing the function before running this evaluation cell.')\n",
    "except TypeError as e:\n",
    "    print (\"The FindBusinessBasedOnCity function is supposed to accept three arguments. Yours does not!\")\n",
    "    \n",
    "try:\n",
    "    opf = open('output_city.txt', 'r')\n",
    "except FileNotFoundError as e:\n",
    "    print (\"The FindBusinessBasedOnCity function does not write data to the correct location.\")\n",
    "    \n",
    "lines = opf.readlines()\n",
    "if len(lines) != 3:\n",
    "    print (\"The FindBusinessBasedOnCity function does not find the correct number of results, should be 3.\")\n",
    "    \n",
    "lines = [line.strip() for line in lines]\n",
    "if sorted(lines) == sorted(true_results):\n",
    "    print (\"Correct! You FindBusinessByCity function passes these test cases. This does not cover all possible test edge cases, however, so make sure that your function covers them before submitting!\")"
   ]
  },
  {
   "cell_type": "code",
   "execution_count": 5,
   "metadata": {},
   "outputs": [
    {
     "name": "stdout",
     "output_type": "stream",
     "text": [
      "Correct! Your FindBusinessBasedOnLocation function passes these test cases. This does not cover all possible edge cases, so make sure your function does before submitting.\n"
     ]
    }
   ],
   "source": [
    "true_results = [\"VinciTorio's Restaurant\"]\n",
    "\n",
    "try:\n",
    "    FindBusinessBasedOnLocation(['Buffets'], [33.3482589, -111.9088346], 10, 'output_loc.txt', data)\n",
    "except NameError as e:\n",
    "    print(e)\n",
    "    print ('The FindBusinessBasedOnLocation function is not defined! You must run the cell containing the function before running this evaluation cell.')\n",
    "except TypeError as e:\n",
    "    print (\"The FindBusinessBasedOnLocation function is supposed to accept five arguments. Yours does not!\")\n",
    "    \n",
    "try:\n",
    "    opf = open('output_loc.txt','r')\n",
    "except FileNotFoundError as e:\n",
    "    print (\"The FindBusinessBasedOnLocation function does not write data to the correct location.\")\n",
    "\n",
    "lines = opf.readlines()\n",
    "if len(lines) != 1:\n",
    "    print (\"The FindBusinessBasedOnLocation function does not find the correct number of results, should be only 1.\")\n",
    "\n",
    "if lines[0].strip() == true_results[0]:\n",
    "    print (\"Correct! Your FindBusinessBasedOnLocation function passes these test cases. This does not cover all possible edge cases, so make sure your function does before submitting.\")"
   ]
  },
  {
   "cell_type": "code",
   "execution_count": null,
   "metadata": {},
   "outputs": [],
   "source": []
  },
  {
   "cell_type": "code",
   "execution_count": null,
   "metadata": {},
   "outputs": [],
   "source": []
  }
 ],
 "metadata": {
  "kernelspec": {
   "display_name": "Python 3 (ipykernel)",
   "language": "python",
   "name": "python3"
  },
  "language_info": {
   "codemirror_mode": {
    "name": "ipython",
    "version": 3
   },
   "file_extension": ".py",
   "mimetype": "text/x-python",
   "name": "python",
   "nbconvert_exporter": "python",
   "pygments_lexer": "ipython3",
   "version": "3.9.13"
  }
 },
 "nbformat": 4,
 "nbformat_minor": 2
}
